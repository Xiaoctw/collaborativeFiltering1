{
 "cells": [
  {
   "cell_type": "code",
   "execution_count": 2,
   "metadata": {
    "collapsed": true
   },
   "outputs": [
    {
     "ename": "TypeError",
     "evalue": "dirname() missing 1 required positional argument: 'p'",
     "output_type": "error",
     "traceback": [
      "\u001B[0;31m---------------------------------------------------------------------------\u001B[0m",
      "\u001B[0;31mTypeError\u001B[0m                                 Traceback (most recent call last)",
      "\u001B[0;32m<ipython-input-2-13ce9da9e7a4>\u001B[0m in \u001B[0;36m<module>\u001B[0;34m\u001B[0m\n\u001B[1;32m      4\u001B[0m \u001B[0mneighbor_num\u001B[0m \u001B[0;34m=\u001B[0m \u001B[0;36m8\u001B[0m\u001B[0;34m\u001B[0m\u001B[0;34m\u001B[0m\u001B[0m\n\u001B[1;32m      5\u001B[0m \u001B[0mdist_mea\u001B[0m \u001B[0;34m=\u001B[0m \u001B[0;34m'occurrence'\u001B[0m\u001B[0;34m\u001B[0m\u001B[0;34m\u001B[0m\u001B[0m\n\u001B[0;32m----> 6\u001B[0;31m \u001B[0mpath\u001B[0m\u001B[0;34m=\u001B[0m\u001B[0mos\u001B[0m\u001B[0;34m.\u001B[0m\u001B[0mpath\u001B[0m\u001B[0;34m.\u001B[0m\u001B[0mdirname\u001B[0m\u001B[0;34m(\u001B[0m\u001B[0mos\u001B[0m\u001B[0;34m.\u001B[0m\u001B[0mpath\u001B[0m\u001B[0;34m.\u001B[0m\u001B[0mdirname\u001B[0m\u001B[0;34m(\u001B[0m\u001B[0;34m)\u001B[0m\u001B[0;34m)\u001B[0m\u001B[0;34m\u001B[0m\u001B[0;34m\u001B[0m\u001B[0m\n\u001B[0m\u001B[1;32m      7\u001B[0m \u001B[0muser_path\u001B[0m \u001B[0;34m=\u001B[0m \u001B[0mpath\u001B[0m \u001B[0;34m+\u001B[0m \u001B[0;34m'/user_mat_distance_measure_{}_neighbor_num_{}.npz'\u001B[0m\u001B[0;34m.\u001B[0m\u001B[0mformat\u001B[0m\u001B[0;34m(\u001B[0m\u001B[0mneighbor_num\u001B[0m\u001B[0;34m,\u001B[0m \u001B[0mdist_mea\u001B[0m\u001B[0;34m)\u001B[0m\u001B[0;34m\u001B[0m\u001B[0;34m\u001B[0m\u001B[0m\n\u001B[1;32m      8\u001B[0m \u001B[0mitem_path\u001B[0m \u001B[0;34m=\u001B[0m \u001B[0mpath\u001B[0m \u001B[0;34m+\u001B[0m \u001B[0;34m'/item_mat_distance_measure_{}_neighbor_num_{}.npz'\u001B[0m\u001B[0;34m.\u001B[0m\u001B[0mformat\u001B[0m\u001B[0;34m(\u001B[0m\u001B[0mneighbor_num\u001B[0m\u001B[0;34m,\u001B[0m \u001B[0mdist_mea\u001B[0m\u001B[0;34m)\u001B[0m\u001B[0;34m\u001B[0m\u001B[0;34m\u001B[0m\u001B[0m\n",
      "\u001B[0;31mTypeError\u001B[0m: dirname() missing 1 required positional argument: 'p'"
     ]
    }
   ],
   "source": [
    "import os\n",
    "from pathlib import Path\n",
    "import scipy.sparse  as sp\n",
    "neighbor_num = 8\n",
    "dist_mea = 'occurrence'\n",
    "path=os.path.dirname(os.path.dirname())\n",
    "user_path = path + '/user_mat_distance_measure_{}_neighbor_num_{}.npz'.format(neighbor_num, dist_mea)\n",
    "item_path = path + '/item_mat_distance_measure_{}_neighbor_num_{}.npz'.format(neighbor_num, dist_mea)\n",
    "user_mat, item_mat = None, None\n",
    "user_mat = sp.load_npz(user_path)\n",
    "item_mat = sp.load_npz(item_path)"
   ]
  },
  {
   "cell_type": "code",
   "execution_count": null,
   "outputs": [],
   "source": [],
   "metadata": {
    "collapsed": false,
    "pycharm": {
     "name": "#%%\n"
    }
   }
  }
 ],
 "metadata": {
  "kernelspec": {
   "display_name": "Python 3",
   "language": "python",
   "name": "python3"
  },
  "language_info": {
   "codemirror_mode": {
    "name": "ipython",
    "version": 2
   },
   "file_extension": ".py",
   "mimetype": "text/x-python",
   "name": "python",
   "nbconvert_exporter": "python",
   "pygments_lexer": "ipython2",
   "version": "2.7.6"
  }
 },
 "nbformat": 4,
 "nbformat_minor": 0
}